{
  "nbformat": 4,
  "nbformat_minor": 0,
  "metadata": {
    "colab": {
      "name": "sparkwine.ipynb",
      "provenance": [],
      "collapsed_sections": [
        "_noQr3Gl-O0e"
      ]
    },
    "kernelspec": {
      "name": "python3",
      "display_name": "Python 3"
    }
  },
  "cells": [
    {
      "cell_type": "markdown",
      "metadata": {
        "id": "aI-xRSZN9yK2"
      },
      "source": [
        "# Wine pyspark"
      ]
    },
    {
      "cell_type": "code",
      "metadata": {
        "colab": {
          "base_uri": "https://localhost:8080/"
        },
        "id": "GZMMv_g4j-8F",
        "outputId": "1eb2004a-76a6-46fe-c621-9016a84bb19b"
      },
      "source": [
        "pip install pyspark"
      ],
      "execution_count": 1,
      "outputs": [
        {
          "output_type": "stream",
          "text": [
            "Collecting pyspark\n",
            "\u001b[?25l  Downloading https://files.pythonhosted.org/packages/f0/26/198fc8c0b98580f617cb03cb298c6056587b8f0447e20fa40c5b634ced77/pyspark-3.0.1.tar.gz (204.2MB)\n",
            "\u001b[K     |████████████████████████████████| 204.2MB 58kB/s \n",
            "\u001b[?25hCollecting py4j==0.10.9\n",
            "\u001b[?25l  Downloading https://files.pythonhosted.org/packages/9e/b6/6a4fb90cd235dc8e265a6a2067f2a2c99f0d91787f06aca4bcf7c23f3f80/py4j-0.10.9-py2.py3-none-any.whl (198kB)\n",
            "\u001b[K     |████████████████████████████████| 204kB 45.7MB/s \n",
            "\u001b[?25hBuilding wheels for collected packages: pyspark\n",
            "  Building wheel for pyspark (setup.py) ... \u001b[?25l\u001b[?25hdone\n",
            "  Created wheel for pyspark: filename=pyspark-3.0.1-py2.py3-none-any.whl size=204612242 sha256=135a94162d70ff28f8cf7783e4a3470da515591c7e2cf7d0c1d6b949edcb6a9e\n",
            "  Stored in directory: /root/.cache/pip/wheels/5e/bd/07/031766ca628adec8435bb40f0bd83bb676ce65ff4007f8e73f\n",
            "Successfully built pyspark\n",
            "Installing collected packages: py4j, pyspark\n",
            "Successfully installed py4j-0.10.9 pyspark-3.0.1\n"
          ],
          "name": "stdout"
        }
      ]
    },
    {
      "cell_type": "markdown",
      "metadata": {
        "id": "XlZZhxIB97TC"
      },
      "source": [
        "## Session builder"
      ]
    },
    {
      "cell_type": "code",
      "metadata": {
        "id": "hIA3VkY7kPej"
      },
      "source": [
        "from pyspark.sql import SparkSession\r\n",
        "spark = SparkSession.builder.appName('white_wine').getOrCreate()"
      ],
      "execution_count": 2,
      "outputs": []
    },
    {
      "cell_type": "markdown",
      "metadata": {
        "id": "EceRewK5-BBX"
      },
      "source": [
        "## Import data"
      ]
    },
    {
      "cell_type": "code",
      "metadata": {
        "id": "KUsOkJlzkoPE"
      },
      "source": [
        "df = spark.read.csv('winequality-white.csv',inferSchema=True,header=True)"
      ],
      "execution_count": 3,
      "outputs": []
    },
    {
      "cell_type": "markdown",
      "metadata": {
        "id": "mRkeyKRe-G_U"
      },
      "source": [
        "## Show and schema"
      ]
    },
    {
      "cell_type": "code",
      "metadata": {
        "colab": {
          "base_uri": "https://localhost:8080/"
        },
        "id": "SKTQ-a49kzze",
        "outputId": "32fc8b34-0486-4530-86e1-6e3569c25d37"
      },
      "source": [
        "df.show(5)"
      ],
      "execution_count": 4,
      "outputs": [
        {
          "output_type": "stream",
          "text": [
            "+-------------+----------------+-----------+--------------+---------+-------------------+--------------------+-------+----+---------+-------+-------+\n",
            "|fixed acidity|volatile acidity|citric acid|residual sugar|chlorides|free sulfur dioxide|total sulfur dioxide|density|  pH|sulphates|alcohol|quality|\n",
            "+-------------+----------------+-----------+--------------+---------+-------------------+--------------------+-------+----+---------+-------+-------+\n",
            "|          7.0|            0.27|       0.36|          20.7|    0.045|               45.0|               170.0|  1.001| 3.0|     0.45|    8.8|      6|\n",
            "|          6.3|             0.3|       0.34|           1.6|    0.049|               14.0|               132.0|  0.994| 3.3|     0.49|    9.5|      6|\n",
            "|          8.1|            0.28|        0.4|           6.9|     0.05|               30.0|                97.0| 0.9951|3.26|     0.44|   10.1|      6|\n",
            "|          7.2|            0.23|       0.32|           8.5|    0.058|               47.0|               186.0| 0.9956|3.19|      0.4|    9.9|      6|\n",
            "|          7.2|            0.23|       0.32|           8.5|    0.058|               47.0|               186.0| 0.9956|3.19|      0.4|    9.9|      6|\n",
            "+-------------+----------------+-----------+--------------+---------+-------------------+--------------------+-------+----+---------+-------+-------+\n",
            "only showing top 5 rows\n",
            "\n"
          ],
          "name": "stdout"
        }
      ]
    },
    {
      "cell_type": "code",
      "metadata": {
        "colab": {
          "base_uri": "https://localhost:8080/"
        },
        "id": "7pjbbikrmoSb",
        "outputId": "26c73494-17d2-4829-b707-e338c87d0d08"
      },
      "source": [
        "df.printSchema()"
      ],
      "execution_count": 5,
      "outputs": [
        {
          "output_type": "stream",
          "text": [
            "root\n",
            " |-- fixed acidity: double (nullable = true)\n",
            " |-- volatile acidity: double (nullable = true)\n",
            " |-- citric acid: double (nullable = true)\n",
            " |-- residual sugar: double (nullable = true)\n",
            " |-- chlorides: double (nullable = true)\n",
            " |-- free sulfur dioxide: double (nullable = true)\n",
            " |-- total sulfur dioxide: double (nullable = true)\n",
            " |-- density: double (nullable = true)\n",
            " |-- pH: double (nullable = true)\n",
            " |-- sulphates: double (nullable = true)\n",
            " |-- alcohol: double (nullable = true)\n",
            " |-- quality: integer (nullable = true)\n",
            "\n"
          ],
          "name": "stdout"
        }
      ]
    },
    {
      "cell_type": "code",
      "metadata": {
        "colab": {
          "base_uri": "https://localhost:8080/"
        },
        "id": "eVhJmbnHmqnu",
        "outputId": "39b6f46f-b0f2-415b-b2d3-e19f5b50c6a6"
      },
      "source": [
        "df.describe().show()"
      ],
      "execution_count": 6,
      "outputs": [
        {
          "output_type": "stream",
          "text": [
            "+-------+------------------+------------------+-------------------+-----------------+--------------------+-------------------+--------------------+--------------------+-------------------+-------------------+------------------+------------------+\n",
            "|summary|     fixed acidity|  volatile acidity|        citric acid|   residual sugar|           chlorides|free sulfur dioxide|total sulfur dioxide|             density|                 pH|          sulphates|           alcohol|           quality|\n",
            "+-------+------------------+------------------+-------------------+-----------------+--------------------+-------------------+--------------------+--------------------+-------------------+-------------------+------------------+------------------+\n",
            "|  count|              4898|              4897|               4897|             4898|                4898|               4897|                4897|                4896|               4898|               4898|              4898|              4898|\n",
            "|   mean| 6.854787668436075|0.2782448437819084|0.33413314274044686|6.391414863209486|  0.0457723560636995|  35.30467633244844|  138.36399836634675|  0.9940276470588172| 3.1882666394446693| 0.4898468762760325|10.514267047774638|  5.87790935075541|\n",
            "| stddev|0.8438682276875127|0.1008045042974952| 0.1209632036963097|5.072057784014878|0.021847968093728805| 17.007200770431016|    42.5017611200664|0.002991105904851904|0.15100059961506673|0.11412583394883222|  1.23062056775732|0.8856385749678322|\n",
            "|    min|               3.8|              0.08|                0.0|              0.6|               0.009|                2.0|                 9.0|             0.98711|               2.72|               0.22|               8.0|                 3|\n",
            "|    max|              14.2|               1.1|               1.66|             65.8|               0.346|              289.0|               440.0|             1.03898|               3.82|               1.08|              14.2|                 9|\n",
            "+-------+------------------+------------------+-------------------+-----------------+--------------------+-------------------+--------------------+--------------------+-------------------+-------------------+------------------+------------------+\n",
            "\n"
          ],
          "name": "stdout"
        }
      ]
    },
    {
      "cell_type": "code",
      "metadata": {
        "colab": {
          "base_uri": "https://localhost:8080/"
        },
        "id": "ZeVWOMTpX2hs",
        "outputId": "4071d69d-98fe-40d9-9dc2-56943aaaca05"
      },
      "source": [
        "from pyspark.sql import functions as f\r\n",
        "desc = df.describe()\r\n",
        "desc = desc.select(desc['summary'],\r\n",
        "                   f.format_number(desc['pH'].cast('float'),2).alias('pH'),\r\n",
        "                   f.format_number(desc['density'].cast('float'),3).alias('density'),\r\n",
        "                   f.format_number(desc['alcohol'].cast('float'),2).alias('alcohol')\r\n",
        "                   )\r\n",
        "desc.show()"
      ],
      "execution_count": 8,
      "outputs": [
        {
          "output_type": "stream",
          "text": [
            "+-------+--------+---------+--------+\n",
            "|summary|      pH|  density| alcohol|\n",
            "+-------+--------+---------+--------+\n",
            "|  count|4,898.00|4,896.000|4,898.00|\n",
            "|   mean|    3.19|    0.994|   10.51|\n",
            "| stddev|    0.15|    0.003|    1.23|\n",
            "|    min|    2.72|    0.987|    8.00|\n",
            "|    max|    3.82|    1.039|   14.20|\n",
            "+-------+--------+---------+--------+\n",
            "\n"
          ],
          "name": "stdout"
        }
      ]
    },
    {
      "cell_type": "markdown",
      "metadata": {
        "id": "81jjVtWc-YB-"
      },
      "source": [
        "## Add columns"
      ]
    },
    {
      "cell_type": "code",
      "metadata": {
        "colab": {
          "base_uri": "https://localhost:8080/"
        },
        "id": "Ntq5b7m5pN1L",
        "outputId": "cf1ae6ab-e9d6-4434-e2f0-3b7300378334"
      },
      "source": [
        "df.withColumn('residual_sulphur',df[\"total sulfur dioxide\"]-df[\"free sulfur dioxide\"]).show(5)"
      ],
      "execution_count": 9,
      "outputs": [
        {
          "output_type": "stream",
          "text": [
            "+-------------+----------------+-----------+--------------+---------+-------------------+--------------------+-------+----+---------+-------+-------+----------------+\n",
            "|fixed acidity|volatile acidity|citric acid|residual sugar|chlorides|free sulfur dioxide|total sulfur dioxide|density|  pH|sulphates|alcohol|quality|residual_sulphur|\n",
            "+-------------+----------------+-----------+--------------+---------+-------------------+--------------------+-------+----+---------+-------+-------+----------------+\n",
            "|          7.0|            0.27|       0.36|          20.7|    0.045|               45.0|               170.0|  1.001| 3.0|     0.45|    8.8|      6|           125.0|\n",
            "|          6.3|             0.3|       0.34|           1.6|    0.049|               14.0|               132.0|  0.994| 3.3|     0.49|    9.5|      6|           118.0|\n",
            "|          8.1|            0.28|        0.4|           6.9|     0.05|               30.0|                97.0| 0.9951|3.26|     0.44|   10.1|      6|            67.0|\n",
            "|          7.2|            0.23|       0.32|           8.5|    0.058|               47.0|               186.0| 0.9956|3.19|      0.4|    9.9|      6|           139.0|\n",
            "|          7.2|            0.23|       0.32|           8.5|    0.058|               47.0|               186.0| 0.9956|3.19|      0.4|    9.9|      6|           139.0|\n",
            "+-------------+----------------+-----------+--------------+---------+-------------------+--------------------+-------+----+---------+-------+-------+----------------+\n",
            "only showing top 5 rows\n",
            "\n"
          ],
          "name": "stdout"
        }
      ]
    },
    {
      "cell_type": "markdown",
      "metadata": {
        "id": "6BB0GsED-JIr"
      },
      "source": [
        "## Filter"
      ]
    },
    {
      "cell_type": "code",
      "metadata": {
        "colab": {
          "base_uri": "https://localhost:8080/"
        },
        "id": "8Sw486xCk69o",
        "outputId": "97a34d40-7191-4e1c-f97c-6243670c0737"
      },
      "source": [
        "rows_acid = df.filter(df[\"fixed acidity\"] > 10).collect()\r\n",
        "rows_acid[0].asDict()"
      ],
      "execution_count": 10,
      "outputs": [
        {
          "output_type": "execute_result",
          "data": {
            "text/plain": [
              "{'alcohol': 9.9,\n",
              " 'chlorides': 0.049,\n",
              " 'citric acid': 0.88,\n",
              " 'density': 0.9968,\n",
              " 'fixed acidity': 10.2,\n",
              " 'free sulfur dioxide': 20.0,\n",
              " 'pH': 2.99,\n",
              " 'quality': 4,\n",
              " 'residual sugar': 6.2,\n",
              " 'sulphates': 0.51,\n",
              " 'total sulfur dioxide': 124.0,\n",
              " 'volatile acidity': 0.44}"
            ]
          },
          "metadata": {
            "tags": []
          },
          "execution_count": 10
        }
      ]
    },
    {
      "cell_type": "markdown",
      "metadata": {
        "id": "_noQr3Gl-O0e"
      },
      "source": [
        "## Aggregates and order"
      ]
    },
    {
      "cell_type": "code",
      "metadata": {
        "colab": {
          "base_uri": "https://localhost:8080/"
        },
        "id": "UempEJcFmMa4",
        "outputId": "b75479d2-03ff-4f41-bf4c-93520dd1a146"
      },
      "source": [
        "df.groupby('quality').agg(\r\n",
        "    f.avg('alcohol').alias('mean_alcohol'),\r\n",
        "    f.max('alcohol').alias('max_alcohol'),\r\n",
        "    f.min('alcohol').alias('min_alcohol'),\r\n",
        "    f.count('alcohol').alias('population')\r\n",
        ").sort('quality').show()"
      ],
      "execution_count": 11,
      "outputs": [
        {
          "output_type": "stream",
          "text": [
            "+-------+------------------+-----------+-----------+----------+\n",
            "|quality|      mean_alcohol|max_alcohol|min_alcohol|population|\n",
            "+-------+------------------+-----------+-----------+----------+\n",
            "|      3|            10.345|       12.6|        8.0|        20|\n",
            "|      4| 10.15245398773007|       13.5|        8.4|       163|\n",
            "|      5| 9.808840082361009|       13.6|        8.0|      1457|\n",
            "|      6|10.575371549893866|       14.0|        8.5|      2198|\n",
            "|      7|11.367935606060604|       14.2|        8.6|       880|\n",
            "|      8|11.636000000000003|       14.0|        8.5|       175|\n",
            "|      9|             12.18|       12.9|       10.4|         5|\n",
            "+-------+------------------+-----------+-----------+----------+\n",
            "\n"
          ],
          "name": "stdout"
        }
      ]
    },
    {
      "cell_type": "code",
      "metadata": {
        "colab": {
          "base_uri": "https://localhost:8080/"
        },
        "id": "2XBASjxKoj9w",
        "outputId": "c9ba3b04-7f94-4982-c7a6-48a89dfbcaa0"
      },
      "source": [
        "df.createOrReplaceTempView('wine')\r\n",
        "query = spark.sql(\"SELECT * FROM wine ORDER BY alcohol LIMIT 5\")\r\n",
        "query.show()"
      ],
      "execution_count": 12,
      "outputs": [
        {
          "output_type": "stream",
          "text": [
            "+-------------+----------------+-----------+--------------+---------+-------------------+--------------------+-------+----+---------+-------+-------+\n",
            "|fixed acidity|volatile acidity|citric acid|residual sugar|chlorides|free sulfur dioxide|total sulfur dioxide|density|  pH|sulphates|alcohol|quality|\n",
            "+-------------+----------------+-----------+--------------+---------+-------------------+--------------------+-------+----+---------+-------+-------+\n",
            "|          4.2|           0.215|       0.23|           5.1|    0.041|               64.0|               157.0|0.99688|3.42|     0.44|    8.0|      3|\n",
            "|          4.5|            0.19|       0.21|          0.95|    0.033|               89.0|               159.0|0.99332|3.34|     0.42|    8.0|      5|\n",
            "|          6.2|            0.31|       0.23|           3.3|    0.052|               34.0|               113.0|0.99429|3.16|     0.48|    8.4|      5|\n",
            "|          6.2|            0.31|       0.23|           3.3|    0.052|               34.0|               113.0|0.99429|3.16|     0.48|    8.4|      5|\n",
            "|          6.4|            0.37|       0.12|           5.9|    0.056|                6.0|                91.0|0.99536|3.06|     0.46|    8.4|      4|\n",
            "+-------------+----------------+-----------+--------------+---------+-------------------+--------------------+-------+----+---------+-------+-------+\n",
            "\n"
          ],
          "name": "stdout"
        }
      ]
    },
    {
      "cell_type": "code",
      "metadata": {
        "colab": {
          "base_uri": "https://localhost:8080/"
        },
        "id": "KLWtb-TZ8IEW",
        "outputId": "9029f7df-e0a1-486d-a52a-7b9b31db0766"
      },
      "source": [
        "df.select(f.countDistinct('quality').alias('unique_qualities')).show()"
      ],
      "execution_count": 13,
      "outputs": [
        {
          "output_type": "stream",
          "text": [
            "+----------------+\n",
            "|unique_qualities|\n",
            "+----------------+\n",
            "|               7|\n",
            "+----------------+\n",
            "\n"
          ],
          "name": "stdout"
        }
      ]
    },
    {
      "cell_type": "code",
      "metadata": {
        "colab": {
          "base_uri": "https://localhost:8080/"
        },
        "id": "LEv7jUMHa5zn",
        "outputId": "02f438de-9ea1-469b-e818-40d0a630de84"
      },
      "source": [
        "df.select([f.max(df.pH),f.min(df.pH)]).show()"
      ],
      "execution_count": 14,
      "outputs": [
        {
          "output_type": "stream",
          "text": [
            "+-------+-------+\n",
            "|max(pH)|min(pH)|\n",
            "+-------+-------+\n",
            "|   3.82|   2.72|\n",
            "+-------+-------+\n",
            "\n"
          ],
          "name": "stdout"
        }
      ]
    },
    {
      "cell_type": "code",
      "metadata": {
        "colab": {
          "base_uri": "https://localhost:8080/"
        },
        "id": "dUXwX3mP8usC",
        "outputId": "f56ad6c1-1f2e-4695-eccc-288aafaf26cd"
      },
      "source": [
        "ph_stddev = df.select(f.stddev('pH').alias('pH_stddev'))\r\n",
        "ph_stddev.show()"
      ],
      "execution_count": 15,
      "outputs": [
        {
          "output_type": "stream",
          "text": [
            "+-------------------+\n",
            "|          pH_stddev|\n",
            "+-------------------+\n",
            "|0.15100059961506673|\n",
            "+-------------------+\n",
            "\n"
          ],
          "name": "stdout"
        }
      ]
    },
    {
      "cell_type": "code",
      "metadata": {
        "colab": {
          "base_uri": "https://localhost:8080/"
        },
        "id": "7hhJtbXZ9BuN",
        "outputId": "1be38d88-d4bb-42d7-c1b6-e895053a1b86"
      },
      "source": [
        "ph_stddev.select(f.format_number('pH_stddev',3).alias('pH_stddev_rounded')).show()"
      ],
      "execution_count": 16,
      "outputs": [
        {
          "output_type": "stream",
          "text": [
            "+-----------------+\n",
            "|pH_stddev_rounded|\n",
            "+-----------------+\n",
            "|            0.151|\n",
            "+-----------------+\n",
            "\n"
          ],
          "name": "stdout"
        }
      ]
    },
    {
      "cell_type": "code",
      "metadata": {
        "colab": {
          "base_uri": "https://localhost:8080/"
        },
        "id": "50VDejUt9Y91",
        "outputId": "c7640ab0-c327-4516-ebff-94b8ffedb85c"
      },
      "source": [
        "df.orderBy(df.pH.desc()).show(5)"
      ],
      "execution_count": 17,
      "outputs": [
        {
          "output_type": "stream",
          "text": [
            "+-------------+----------------+-----------+--------------+---------+-------------------+--------------------+-------+----+---------+-------+-------+\n",
            "|fixed acidity|volatile acidity|citric acid|residual sugar|chlorides|free sulfur dioxide|total sulfur dioxide|density|  pH|sulphates|alcohol|quality|\n",
            "+-------------+----------------+-----------+--------------+---------+-------------------+--------------------+-------+----+---------+-------+-------+\n",
            "|          5.3|            0.26|       0.23|          5.15|    0.034|               48.0|               160.0| 0.9952|3.82|     0.51|   10.5|      7|\n",
            "|          6.4|            0.22|       0.34|           1.8|    0.057|               29.0|               104.0| 0.9959|3.81|     0.57|   10.3|      6|\n",
            "|          6.3|             0.2|       0.24|           1.7|    0.052|               36.0|               135.0|0.99374| 3.8|     0.66|   10.8|      6|\n",
            "|          5.7|            0.27|       0.32|           1.2|    0.046|               20.0|               155.0| 0.9934| 3.8|     0.41|   10.2|      6|\n",
            "|          4.6|           0.445|        0.0|           1.4|    0.053|               11.0|               178.0|0.99426|3.79|     0.55|   10.2|      5|\n",
            "+-------------+----------------+-----------+--------------+---------+-------------------+--------------------+-------+----+---------+-------+-------+\n",
            "only showing top 5 rows\n",
            "\n"
          ],
          "name": "stdout"
        }
      ]
    },
    {
      "cell_type": "markdown",
      "metadata": {
        "id": "yHccJITYcahL"
      },
      "source": [
        "## Correlation"
      ]
    },
    {
      "cell_type": "code",
      "metadata": {
        "colab": {
          "base_uri": "https://localhost:8080/"
        },
        "id": "K0soPs_pcZ83",
        "outputId": "5cd13192-3b01-4679-946f-ae5eda25e602"
      },
      "source": [
        "df.select(f.corr('pH','alcohol')).show()"
      ],
      "execution_count": 18,
      "outputs": [
        {
          "output_type": "stream",
          "text": [
            "+-------------------+\n",
            "|  corr(pH, alcohol)|\n",
            "+-------------------+\n",
            "|0.12143209874913044|\n",
            "+-------------------+\n",
            "\n"
          ],
          "name": "stdout"
        }
      ]
    },
    {
      "cell_type": "markdown",
      "metadata": {
        "id": "dmBKqsH8-gSF"
      },
      "source": [
        "## Missing data"
      ]
    },
    {
      "cell_type": "code",
      "metadata": {
        "colab": {
          "base_uri": "https://localhost:8080/"
        },
        "id": "sfRwchblAG1j",
        "outputId": "496a9579-2326-46c2-d823-b8134bd7c65c"
      },
      "source": [
        "from pyspark.sql.functions import isnan, when, count, col\r\n",
        "df.select([count(when(isnan(c) | col(c).isNull(), c)).alias(c) for c in df.columns]).show()"
      ],
      "execution_count": 19,
      "outputs": [
        {
          "output_type": "stream",
          "text": [
            "+-------------+----------------+-----------+--------------+---------+-------------------+--------------------+-------+---+---------+-------+-------+\n",
            "|fixed acidity|volatile acidity|citric acid|residual sugar|chlorides|free sulfur dioxide|total sulfur dioxide|density| pH|sulphates|alcohol|quality|\n",
            "+-------------+----------------+-----------+--------------+---------+-------------------+--------------------+-------+---+---------+-------+-------+\n",
            "|            0|               1|          1|             0|        0|                  1|                   1|      2|  0|        0|      0|      0|\n",
            "+-------------+----------------+-----------+--------------+---------+-------------------+--------------------+-------+---+---------+-------+-------+\n",
            "\n"
          ],
          "name": "stdout"
        }
      ]
    },
    {
      "cell_type": "code",
      "metadata": {
        "colab": {
          "base_uri": "https://localhost:8080/"
        },
        "id": "3fjeefk8BCLA",
        "outputId": "eee0e584-d3bc-49f8-8c86-0e3dd5604f1d"
      },
      "source": [
        "df_with_miss = df.filter((df.density.isNull()) | (df['citric acid'].isNull()) | (df.pH == 3.82))\r\n",
        "df_with_miss.show()"
      ],
      "execution_count": 20,
      "outputs": [
        {
          "output_type": "stream",
          "text": [
            "+-------------+----------------+-----------+--------------+---------+-------------------+--------------------+-------+----+---------+-------+-------+\n",
            "|fixed acidity|volatile acidity|citric acid|residual sugar|chlorides|free sulfur dioxide|total sulfur dioxide|density|  pH|sulphates|alcohol|quality|\n",
            "+-------------+----------------+-----------+--------------+---------+-------------------+--------------------+-------+----+---------+-------+-------+\n",
            "|          6.2|            0.16|       0.33|           1.1|    0.057|               21.0|                82.0|   null|3.32|     0.46|   10.9|      7|\n",
            "|          7.1|            0.44|       null|          11.8|    0.044|               52.0|               152.0| 0.9975|3.12|     0.46|    8.7|      6|\n",
            "|          5.3|            0.26|       0.23|          5.15|    0.034|               48.0|               160.0| 0.9952|3.82|     0.51|   10.5|      7|\n",
            "|          7.2|            null|        0.4|           6.3|    0.047|               null|               172.0|   null|3.18|     0.53|    9.5|      6|\n",
            "+-------------+----------------+-----------+--------------+---------+-------------------+--------------------+-------+----+---------+-------+-------+\n",
            "\n"
          ],
          "name": "stdout"
        }
      ]
    },
    {
      "cell_type": "code",
      "metadata": {
        "colab": {
          "base_uri": "https://localhost:8080/"
        },
        "id": "p_2ff-cuIJrD",
        "outputId": "4928b6ec-4fe5-4108-e652-35e25e88b007"
      },
      "source": [
        "df_with_miss.na.drop().show()"
      ],
      "execution_count": 21,
      "outputs": [
        {
          "output_type": "stream",
          "text": [
            "+-------------+----------------+-----------+--------------+---------+-------------------+--------------------+-------+----+---------+-------+-------+\n",
            "|fixed acidity|volatile acidity|citric acid|residual sugar|chlorides|free sulfur dioxide|total sulfur dioxide|density|  pH|sulphates|alcohol|quality|\n",
            "+-------------+----------------+-----------+--------------+---------+-------------------+--------------------+-------+----+---------+-------+-------+\n",
            "|          5.3|            0.26|       0.23|          5.15|    0.034|               48.0|               160.0| 0.9952|3.82|     0.51|   10.5|      7|\n",
            "+-------------+----------------+-----------+--------------+---------+-------------------+--------------------+-------+----+---------+-------+-------+\n",
            "\n"
          ],
          "name": "stdout"
        }
      ]
    },
    {
      "cell_type": "code",
      "metadata": {
        "colab": {
          "base_uri": "https://localhost:8080/"
        },
        "id": "YLO4sMGAIiMw",
        "outputId": "1d54d932-8b2f-4d3a-d572-3bb30f6f8a70"
      },
      "source": [
        "df_with_miss.na.drop(subset=['density']).show()"
      ],
      "execution_count": 22,
      "outputs": [
        {
          "output_type": "stream",
          "text": [
            "+-------------+----------------+-----------+--------------+---------+-------------------+--------------------+-------+----+---------+-------+-------+\n",
            "|fixed acidity|volatile acidity|citric acid|residual sugar|chlorides|free sulfur dioxide|total sulfur dioxide|density|  pH|sulphates|alcohol|quality|\n",
            "+-------------+----------------+-----------+--------------+---------+-------------------+--------------------+-------+----+---------+-------+-------+\n",
            "|          7.1|            0.44|       null|          11.8|    0.044|               52.0|               152.0| 0.9975|3.12|     0.46|    8.7|      6|\n",
            "|          5.3|            0.26|       0.23|          5.15|    0.034|               48.0|               160.0| 0.9952|3.82|     0.51|   10.5|      7|\n",
            "+-------------+----------------+-----------+--------------+---------+-------------------+--------------------+-------+----+---------+-------+-------+\n",
            "\n"
          ],
          "name": "stdout"
        }
      ]
    },
    {
      "cell_type": "code",
      "metadata": {
        "colab": {
          "base_uri": "https://localhost:8080/"
        },
        "id": "pZpI2jIeMKHS",
        "outputId": "1f8901ef-901c-40be-d5db-86806d856dab"
      },
      "source": [
        "df_with_miss.na.fill(0).show()"
      ],
      "execution_count": 23,
      "outputs": [
        {
          "output_type": "stream",
          "text": [
            "+-------------+----------------+-----------+--------------+---------+-------------------+--------------------+-------+----+---------+-------+-------+\n",
            "|fixed acidity|volatile acidity|citric acid|residual sugar|chlorides|free sulfur dioxide|total sulfur dioxide|density|  pH|sulphates|alcohol|quality|\n",
            "+-------------+----------------+-----------+--------------+---------+-------------------+--------------------+-------+----+---------+-------+-------+\n",
            "|          6.2|            0.16|       0.33|           1.1|    0.057|               21.0|                82.0|    0.0|3.32|     0.46|   10.9|      7|\n",
            "|          7.1|            0.44|        0.0|          11.8|    0.044|               52.0|               152.0| 0.9975|3.12|     0.46|    8.7|      6|\n",
            "|          5.3|            0.26|       0.23|          5.15|    0.034|               48.0|               160.0| 0.9952|3.82|     0.51|   10.5|      7|\n",
            "|          7.2|             0.0|        0.4|           6.3|    0.047|                0.0|               172.0|    0.0|3.18|     0.53|    9.5|      6|\n",
            "+-------------+----------------+-----------+--------------+---------+-------------------+--------------------+-------+----+---------+-------+-------+\n",
            "\n"
          ],
          "name": "stdout"
        }
      ]
    },
    {
      "cell_type": "code",
      "metadata": {
        "colab": {
          "base_uri": "https://localhost:8080/"
        },
        "id": "A8tUl3c2Muc1",
        "outputId": "c3d36756-b72f-4ffc-f523-21aabbe09ae0"
      },
      "source": [
        "avg_density = df.select(f.mean(df.density)).collect()\r\n",
        "avg_density = avg_density[0][0]\r\n",
        "df_with_miss.na.fill(avg_density,subset=['density']).show()"
      ],
      "execution_count": 24,
      "outputs": [
        {
          "output_type": "stream",
          "text": [
            "+-------------+----------------+-----------+--------------+---------+-------------------+--------------------+------------------+----+---------+-------+-------+\n",
            "|fixed acidity|volatile acidity|citric acid|residual sugar|chlorides|free sulfur dioxide|total sulfur dioxide|           density|  pH|sulphates|alcohol|quality|\n",
            "+-------------+----------------+-----------+--------------+---------+-------------------+--------------------+------------------+----+---------+-------+-------+\n",
            "|          6.2|            0.16|       0.33|           1.1|    0.057|               21.0|                82.0|0.9940276470588172|3.32|     0.46|   10.9|      7|\n",
            "|          7.1|            0.44|       null|          11.8|    0.044|               52.0|               152.0|            0.9975|3.12|     0.46|    8.7|      6|\n",
            "|          5.3|            0.26|       0.23|          5.15|    0.034|               48.0|               160.0|            0.9952|3.82|     0.51|   10.5|      7|\n",
            "|          7.2|            null|        0.4|           6.3|    0.047|               null|               172.0|0.9940276470588172|3.18|     0.53|    9.5|      6|\n",
            "+-------------+----------------+-----------+--------------+---------+-------------------+--------------------+------------------+----+---------+-------+-------+\n",
            "\n"
          ],
          "name": "stdout"
        }
      ]
    },
    {
      "cell_type": "markdown",
      "metadata": {
        "id": "iAK18z4_Orw-"
      },
      "source": [
        "## Datetime"
      ]
    },
    {
      "cell_type": "code",
      "metadata": {
        "colab": {
          "base_uri": "https://localhost:8080/"
        },
        "id": "ntaSgzS8Nnnu",
        "outputId": "c1ba58e9-7b88-4ec5-c83d-19cd1d38e2c2"
      },
      "source": [
        "df_apple = spark.read.csv('appl_stock.csv',header=True,inferSchema=True)\r\n",
        "df_apple.printSchema()"
      ],
      "execution_count": 25,
      "outputs": [
        {
          "output_type": "stream",
          "text": [
            "root\n",
            " |-- Date: string (nullable = true)\n",
            " |-- Open: double (nullable = true)\n",
            " |-- High: double (nullable = true)\n",
            " |-- Low: double (nullable = true)\n",
            " |-- Close: double (nullable = true)\n",
            " |-- Volume: integer (nullable = true)\n",
            " |-- Adj Close: double (nullable = true)\n",
            "\n"
          ],
          "name": "stdout"
        }
      ]
    },
    {
      "cell_type": "code",
      "metadata": {
        "id": "gJxfdhbdQOmo"
      },
      "source": [
        "from datetime import datetime\r\n",
        "from pyspark.sql.functions import udf\r\n",
        "from pyspark.sql.types import DateType\r\n",
        "\r\n",
        "convert_date = udf(lambda x: datetime.strptime(x, '%Y-%m-%d'), DateType())\r\n",
        "df_apple = df_apple.withColumn('Date', convert_date('Date'))"
      ],
      "execution_count": 26,
      "outputs": []
    },
    {
      "cell_type": "code",
      "metadata": {
        "colab": {
          "base_uri": "https://localhost:8080/"
        },
        "id": "MgzNUM56OvuV",
        "outputId": "cbfb4140-6a60-40c1-d748-d0cc2a5a28f4"
      },
      "source": [
        "df_apple.head(1)"
      ],
      "execution_count": 27,
      "outputs": [
        {
          "output_type": "execute_result",
          "data": {
            "text/plain": [
              "[Row(Date=datetime.date(2010, 1, 4), Open=213.429998, High=214.499996, Low=212.38000099999996, Close=214.009998, Volume=123432400, Adj Close=27.727039)]"
            ]
          },
          "metadata": {
            "tags": []
          },
          "execution_count": 27
        }
      ]
    },
    {
      "cell_type": "code",
      "metadata": {
        "colab": {
          "base_uri": "https://localhost:8080/"
        },
        "id": "i9IIla5oP6og",
        "outputId": "eb847465-9a86-4e1a-de91-d29c344ad3b9"
      },
      "source": [
        "df_apple = df_apple.withColumn('week',f.weekofyear('Date'))\r\n",
        "df_apple.show(5)"
      ],
      "execution_count": 28,
      "outputs": [
        {
          "output_type": "stream",
          "text": [
            "+----------+----------+----------+------------------+------------------+---------+------------------+----+\n",
            "|      Date|      Open|      High|               Low|             Close|   Volume|         Adj Close|week|\n",
            "+----------+----------+----------+------------------+------------------+---------+------------------+----+\n",
            "|2010-01-04|213.429998|214.499996|212.38000099999996|        214.009998|123432400|         27.727039|   1|\n",
            "|2010-01-05|214.599998|215.589994|        213.249994|        214.379993|150476200|27.774976000000002|   1|\n",
            "|2010-01-06|214.379993|    215.23|        210.750004|        210.969995|138040000|27.333178000000004|   1|\n",
            "|2010-01-07|    211.75|212.000006|        209.050005|            210.58|119282800|          27.28265|   1|\n",
            "|2010-01-08|210.299994|212.000006|209.06000500000002|211.98000499999998|111902700|         27.464034|   1|\n",
            "+----------+----------+----------+------------------+------------------+---------+------------------+----+\n",
            "only showing top 5 rows\n",
            "\n"
          ],
          "name": "stdout"
        }
      ]
    },
    {
      "cell_type": "code",
      "metadata": {
        "colab": {
          "base_uri": "https://localhost:8080/"
        },
        "id": "VX003Ew0TeXF",
        "outputId": "d973d69f-3dd8-4707-bca0-2344d123c523"
      },
      "source": [
        "df_apple.groupby('week').max().select(['week','max(Open)','max(Close)']).orderBy('week').show(5)"
      ],
      "execution_count": 29,
      "outputs": [
        {
          "output_type": "stream",
          "text": [
            "+----+----------+-----------------+\n",
            "|week| max(Open)|       max(Close)|\n",
            "+----+----------+-----------------+\n",
            "|   1|557.460022|       561.019997|\n",
            "|   2|546.800018|       543.929993|\n",
            "|   3|554.900017|557.3599929999999|\n",
            "|   4|554.000023|       556.179993|\n",
            "|   5|    550.07|       550.500023|\n",
            "+----+----------+-----------------+\n",
            "only showing top 5 rows\n",
            "\n"
          ],
          "name": "stdout"
        }
      ]
    },
    {
      "cell_type": "markdown",
      "metadata": {
        "id": "y_jA39YXEcFF"
      },
      "source": [
        "## One hot encode"
      ]
    },
    {
      "cell_type": "code",
      "metadata": {
        "id": "T6Dm0wSUEbNv"
      },
      "source": [
        "job_df = spark.read.csv('ds_job.csv', header=True, inferSchema=True)"
      ],
      "execution_count": 30,
      "outputs": []
    },
    {
      "cell_type": "code",
      "metadata": {
        "colab": {
          "base_uri": "https://localhost:8080/"
        },
        "id": "s01Dc3_ZEr_x",
        "outputId": "dbbad540-2041-4b68-a972-60d9c10b37b5"
      },
      "source": [
        "for column in job_df.columns:\r\n",
        "  print('Number of unique {}: {}'.format(column, len(job_df.groupby(column).count().collect())))"
      ],
      "execution_count": 31,
      "outputs": [
        {
          "output_type": "stream",
          "text": [
            "Number of unique enrollee_id: 19158\n",
            "Number of unique city: 123\n",
            "Number of unique city_development_index: 93\n",
            "Number of unique gender: 4\n",
            "Number of unique relevent_experience: 2\n",
            "Number of unique enrolled_university: 4\n",
            "Number of unique education_level: 6\n",
            "Number of unique major_discipline: 7\n",
            "Number of unique experience: 23\n",
            "Number of unique company_size: 9\n",
            "Number of unique company_type: 7\n",
            "Number of unique last_new_job: 7\n",
            "Number of unique training_hours: 241\n",
            "Number of unique target: 2\n"
          ],
          "name": "stdout"
        }
      ]
    },
    {
      "cell_type": "code",
      "metadata": {
        "id": "oUHB-MX_EyHH"
      },
      "source": [
        "job_df = job_df.na.fill('not_specified')"
      ],
      "execution_count": 32,
      "outputs": []
    },
    {
      "cell_type": "code",
      "metadata": {
        "colab": {
          "base_uri": "https://localhost:8080/"
        },
        "id": "Y05IEstmFFpP",
        "outputId": "269dfeed-f4a9-4deb-dced-07d233b3a33d"
      },
      "source": [
        "job_df.printSchema()"
      ],
      "execution_count": 33,
      "outputs": [
        {
          "output_type": "stream",
          "text": [
            "root\n",
            " |-- enrollee_id: integer (nullable = true)\n",
            " |-- city: string (nullable = false)\n",
            " |-- city_development_index: double (nullable = true)\n",
            " |-- gender: string (nullable = false)\n",
            " |-- relevent_experience: string (nullable = false)\n",
            " |-- enrolled_university: string (nullable = false)\n",
            " |-- education_level: string (nullable = false)\n",
            " |-- major_discipline: string (nullable = false)\n",
            " |-- experience: string (nullable = false)\n",
            " |-- company_size: string (nullable = false)\n",
            " |-- company_type: string (nullable = false)\n",
            " |-- last_new_job: string (nullable = false)\n",
            " |-- training_hours: integer (nullable = true)\n",
            " |-- target: double (nullable = true)\n",
            "\n"
          ],
          "name": "stdout"
        }
      ]
    },
    {
      "cell_type": "code",
      "metadata": {
        "colab": {
          "base_uri": "https://localhost:8080/"
        },
        "id": "Clr3OZWHE5Nu",
        "outputId": "3a311637-4bd6-4cea-864c-9dc1757a7b89"
      },
      "source": [
        "from pyspark.ml.feature import StringIndexer, OneHotEncoder, VectorAssembler\r\n",
        "from pyspark.ml import Pipeline\r\n",
        "\r\n",
        "cols_to_process = ['city','gender','relevent_experience','enrolled_university','education_level',\r\n",
        "                  'major_discipline','experience','company_size','company_type','last_new_job']\r\n",
        "cols_indexed = [col+'_indexed' for col in cols_to_process]\r\n",
        "cols_encoded = [col+'_encoded' for col in cols_to_process]\r\n",
        "\r\n",
        "string_indexer = StringIndexer(inputCols=cols_to_process, outputCols=cols_indexed)\r\n",
        "one_hot_encoder = OneHotEncoder(inputCols=cols_indexed, outputCols=cols_encoded)\r\n",
        "assembler = VectorAssembler(inputCols=cols_encoded+['city_development_index', 'training_hours'], outputCol='features')\r\n",
        "\r\n",
        "pre_processor = Pipeline(stages=[string_indexer, one_hot_encoder, assembler])\r\n",
        "cleaner = pre_processor.fit(job_df)\r\n",
        "\r\n",
        "cleaned_job_df = cleaner.transform(job_df)\r\n",
        "cleaned_job_df.select(['features']).show(10, truncate=False)"
      ],
      "execution_count": 36,
      "outputs": [
        {
          "output_type": "stream",
          "text": [
            "+----------------------------------------------------------------------------------------------------------------+\n",
            "|features                                                                                                        |\n",
            "+----------------------------------------------------------------------------------------------------------------+\n",
            "|(184,[0,122,125,126,129,134,140,162,171,176,182,183],[1.0,1.0,1.0,1.0,1.0,1.0,1.0,1.0,1.0,1.0,0.92,36.0])       |\n",
            "|(184,[44,122,126,129,134,150,163,170,177,182,183],[1.0,1.0,1.0,1.0,1.0,1.0,1.0,1.0,1.0,0.7759999999999999,47.0])|\n",
            "|(184,[1,123,127,129,134,141,162,171,179,182,183],[1.0,1.0,1.0,1.0,1.0,1.0,1.0,1.0,1.0,0.624,83.0])              |\n",
            "|(184,[49,123,129,138,154,162,170,179,182,183],[1.0,1.0,1.0,1.0,1.0,1.0,1.0,1.0,0.789,52.0])                     |\n",
            "|(184,[24,122,125,126,130,134,140,163,172,180,182,183],[1.0,1.0,1.0,1.0,1.0,1.0,1.0,1.0,1.0,1.0,0.767,8.0])      |\n",
            "|(184,[73,123,125,128,129,134,151,162,171,176,182,183],[1.0,1.0,1.0,1.0,1.0,1.0,1.0,1.0,1.0,1.0,0.764,24.0])     |\n",
            "|(184,[4,122,125,126,131,135,141,163,172,176,182,183],[1.0,1.0,1.0,1.0,1.0,1.0,1.0,1.0,1.0,1.0,0.92,24.0])       |\n",
            "|(184,[25,122,125,126,129,134,157,168,170,177,182,183],[1.0,1.0,1.0,1.0,1.0,1.0,1.0,1.0,1.0,1.0,0.762,18.0])     |\n",
            "|(184,[0,122,125,126,129,134,146,163,170,176,182,183],[1.0,1.0,1.0,1.0,1.0,1.0,1.0,1.0,1.0,1.0,0.92,46.0])       |\n",
            "|(184,[0,123,125,126,129,134,158,165,170,177,182,183],[1.0,1.0,1.0,1.0,1.0,1.0,1.0,1.0,1.0,1.0,0.92,123.0])      |\n",
            "+----------------------------------------------------------------------------------------------------------------+\n",
            "only showing top 10 rows\n",
            "\n"
          ],
          "name": "stdout"
        }
      ]
    }
  ]
}