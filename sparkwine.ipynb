{
  "nbformat": 4,
  "nbformat_minor": 0,
  "metadata": {
    "colab": {
      "name": "sparkwine.ipynb",
      "provenance": [],
      "collapsed_sections": []
    },
    "kernelspec": {
      "name": "python3",
      "display_name": "Python 3"
    }
  },
  "cells": [
    {
      "cell_type": "markdown",
      "metadata": {
        "id": "aI-xRSZN9yK2"
      },
      "source": [
        "# Wine pyspark"
      ]
    },
    {
      "cell_type": "code",
      "metadata": {
        "colab": {
          "base_uri": "https://localhost:8080/"
        },
        "id": "GZMMv_g4j-8F",
        "outputId": "e115cd45-1b40-4d7f-f670-15f9cfa4bb27"
      },
      "source": [
        "pip install pyspark"
      ],
      "execution_count": 42,
      "outputs": [
        {
          "output_type": "stream",
          "text": [
            "Requirement already satisfied: pyspark in /usr/local/lib/python3.6/dist-packages (3.0.1)\n",
            "Requirement already satisfied: py4j==0.10.9 in /usr/local/lib/python3.6/dist-packages (from pyspark) (0.10.9)\n"
          ],
          "name": "stdout"
        }
      ]
    },
    {
      "cell_type": "markdown",
      "metadata": {
        "id": "XlZZhxIB97TC"
      },
      "source": [
        "## Session builder"
      ]
    },
    {
      "cell_type": "code",
      "metadata": {
        "id": "hIA3VkY7kPej"
      },
      "source": [
        "from pyspark.sql import SparkSession\r\n",
        "spark = SparkSession.builder.appName('white_wine').getOrCreate()"
      ],
      "execution_count": 43,
      "outputs": []
    },
    {
      "cell_type": "markdown",
      "metadata": {
        "id": "EceRewK5-BBX"
      },
      "source": [
        "## Import data"
      ]
    },
    {
      "cell_type": "code",
      "metadata": {
        "id": "KUsOkJlzkoPE"
      },
      "source": [
        "df = spark.read.csv('winequality-white.csv',inferSchema=True,header=True)"
      ],
      "execution_count": 44,
      "outputs": []
    },
    {
      "cell_type": "markdown",
      "metadata": {
        "id": "mRkeyKRe-G_U"
      },
      "source": [
        "## Show and schema"
      ]
    },
    {
      "cell_type": "code",
      "metadata": {
        "colab": {
          "base_uri": "https://localhost:8080/"
        },
        "id": "SKTQ-a49kzze",
        "outputId": "0d570425-ec90-4b3b-d89f-e191625134cd"
      },
      "source": [
        "df.show(5)"
      ],
      "execution_count": 45,
      "outputs": [
        {
          "output_type": "stream",
          "text": [
            "+-------------+----------------+-----------+--------------+---------+-------------------+--------------------+-------+----+---------+-------+-------+\n",
            "|fixed acidity|volatile acidity|citric acid|residual sugar|chlorides|free sulfur dioxide|total sulfur dioxide|density|  pH|sulphates|alcohol|quality|\n",
            "+-------------+----------------+-----------+--------------+---------+-------------------+--------------------+-------+----+---------+-------+-------+\n",
            "|          7.0|            0.27|       0.36|          20.7|    0.045|               45.0|               170.0|  1.001| 3.0|     0.45|    8.8|      6|\n",
            "|          6.3|             0.3|       0.34|           1.6|    0.049|               14.0|               132.0|  0.994| 3.3|     0.49|    9.5|      6|\n",
            "|          8.1|            0.28|        0.4|           6.9|     0.05|               30.0|                97.0| 0.9951|3.26|     0.44|   10.1|      6|\n",
            "|          7.2|            0.23|       0.32|           8.5|    0.058|               47.0|               186.0| 0.9956|3.19|      0.4|    9.9|      6|\n",
            "|          7.2|            0.23|       0.32|           8.5|    0.058|               47.0|               186.0| 0.9956|3.19|      0.4|    9.9|      6|\n",
            "+-------------+----------------+-----------+--------------+---------+-------------------+--------------------+-------+----+---------+-------+-------+\n",
            "only showing top 5 rows\n",
            "\n"
          ],
          "name": "stdout"
        }
      ]
    },
    {
      "cell_type": "code",
      "metadata": {
        "colab": {
          "base_uri": "https://localhost:8080/"
        },
        "id": "7pjbbikrmoSb",
        "outputId": "9df8c600-564f-40a2-e154-a70c3eab993c"
      },
      "source": [
        "df.printSchema()"
      ],
      "execution_count": 46,
      "outputs": [
        {
          "output_type": "stream",
          "text": [
            "root\n",
            " |-- fixed acidity: double (nullable = true)\n",
            " |-- volatile acidity: double (nullable = true)\n",
            " |-- citric acid: double (nullable = true)\n",
            " |-- residual sugar: double (nullable = true)\n",
            " |-- chlorides: double (nullable = true)\n",
            " |-- free sulfur dioxide: double (nullable = true)\n",
            " |-- total sulfur dioxide: double (nullable = true)\n",
            " |-- density: double (nullable = true)\n",
            " |-- pH: double (nullable = true)\n",
            " |-- sulphates: double (nullable = true)\n",
            " |-- alcohol: double (nullable = true)\n",
            " |-- quality: integer (nullable = true)\n",
            "\n"
          ],
          "name": "stdout"
        }
      ]
    },
    {
      "cell_type": "code",
      "metadata": {
        "colab": {
          "base_uri": "https://localhost:8080/"
        },
        "id": "eVhJmbnHmqnu",
        "outputId": "6326b980-73bd-4423-9029-92d900968cff"
      },
      "source": [
        "df.describe().show()"
      ],
      "execution_count": 47,
      "outputs": [
        {
          "output_type": "stream",
          "text": [
            "+-------+------------------+------------------+-------------------+-----------------+--------------------+-------------------+--------------------+--------------------+-------------------+-------------------+------------------+------------------+\n",
            "|summary|     fixed acidity|  volatile acidity|        citric acid|   residual sugar|           chlorides|free sulfur dioxide|total sulfur dioxide|             density|                 pH|          sulphates|           alcohol|           quality|\n",
            "+-------+------------------+------------------+-------------------+-----------------+--------------------+-------------------+--------------------+--------------------+-------------------+-------------------+------------------+------------------+\n",
            "|  count|              4898|              4897|               4897|             4898|                4898|               4897|                4897|                4896|               4898|               4898|              4898|              4898|\n",
            "|   mean| 6.854787668436075|0.2782448437819084|0.33413314274044686|6.391414863209486|  0.0457723560636995|  35.30467633244844|  138.36399836634675|  0.9940276470588172| 3.1882666394446693| 0.4898468762760325|10.514267047774638|  5.87790935075541|\n",
            "| stddev|0.8438682276875127|0.1008045042974952| 0.1209632036963097|5.072057784014878|0.021847968093728805| 17.007200770431016|    42.5017611200664|0.002991105904851904|0.15100059961506673|0.11412583394883222|  1.23062056775732|0.8856385749678322|\n",
            "|    min|               3.8|              0.08|                0.0|              0.6|               0.009|                2.0|                 9.0|             0.98711|               2.72|               0.22|               8.0|                 3|\n",
            "|    max|              14.2|               1.1|               1.66|             65.8|               0.346|              289.0|               440.0|             1.03898|               3.82|               1.08|              14.2|                 9|\n",
            "+-------+------------------+------------------+-------------------+-----------------+--------------------+-------------------+--------------------+--------------------+-------------------+-------------------+------------------+------------------+\n",
            "\n"
          ],
          "name": "stdout"
        }
      ]
    },
    {
      "cell_type": "code",
      "metadata": {
        "colab": {
          "base_uri": "https://localhost:8080/"
        },
        "id": "ZeVWOMTpX2hs",
        "outputId": "c1909225-c6d9-4a35-c0ba-5b583d0279b3"
      },
      "source": [
        "desc = df.describe()\r\n",
        "desc = desc.select(desc['summary'],\r\n",
        "                   f.format_number(desc['pH'].cast('float'),2).alias('pH'),\r\n",
        "                   f.format_number(desc['density'].cast('float'),3).alias('density'),\r\n",
        "                   f.format_number(desc['alcohol'].cast('float'),2).alias('alcohol')\r\n",
        "                   )\r\n",
        "desc.show()"
      ],
      "execution_count": 143,
      "outputs": [
        {
          "output_type": "stream",
          "text": [
            "+-------+--------+---------+--------+\n",
            "|summary|      pH|  density| alcohol|\n",
            "+-------+--------+---------+--------+\n",
            "|  count|4,898.00|4,896.000|4,898.00|\n",
            "|   mean|    3.19|    0.994|   10.51|\n",
            "| stddev|    0.15|    0.003|    1.23|\n",
            "|    min|    2.72|    0.987|    8.00|\n",
            "|    max|    3.82|    1.039|   14.20|\n",
            "+-------+--------+---------+--------+\n",
            "\n"
          ],
          "name": "stdout"
        }
      ]
    },
    {
      "cell_type": "markdown",
      "metadata": {
        "id": "81jjVtWc-YB-"
      },
      "source": [
        "## Add columns"
      ]
    },
    {
      "cell_type": "code",
      "metadata": {
        "colab": {
          "base_uri": "https://localhost:8080/"
        },
        "id": "Ntq5b7m5pN1L",
        "outputId": "3d3e578b-2525-476e-d423-2e7475b7ce1a"
      },
      "source": [
        "df.withColumn('residual_sulphur',df[\"total sulfur dioxide\"]-df[\"free sulfur dioxide\"]).show(5)"
      ],
      "execution_count": 48,
      "outputs": [
        {
          "output_type": "stream",
          "text": [
            "+-------------+----------------+-----------+--------------+---------+-------------------+--------------------+-------+----+---------+-------+-------+----------------+\n",
            "|fixed acidity|volatile acidity|citric acid|residual sugar|chlorides|free sulfur dioxide|total sulfur dioxide|density|  pH|sulphates|alcohol|quality|residual_sulphur|\n",
            "+-------------+----------------+-----------+--------------+---------+-------------------+--------------------+-------+----+---------+-------+-------+----------------+\n",
            "|          7.0|            0.27|       0.36|          20.7|    0.045|               45.0|               170.0|  1.001| 3.0|     0.45|    8.8|      6|           125.0|\n",
            "|          6.3|             0.3|       0.34|           1.6|    0.049|               14.0|               132.0|  0.994| 3.3|     0.49|    9.5|      6|           118.0|\n",
            "|          8.1|            0.28|        0.4|           6.9|     0.05|               30.0|                97.0| 0.9951|3.26|     0.44|   10.1|      6|            67.0|\n",
            "|          7.2|            0.23|       0.32|           8.5|    0.058|               47.0|               186.0| 0.9956|3.19|      0.4|    9.9|      6|           139.0|\n",
            "|          7.2|            0.23|       0.32|           8.5|    0.058|               47.0|               186.0| 0.9956|3.19|      0.4|    9.9|      6|           139.0|\n",
            "+-------------+----------------+-----------+--------------+---------+-------------------+--------------------+-------+----+---------+-------+-------+----------------+\n",
            "only showing top 5 rows\n",
            "\n"
          ],
          "name": "stdout"
        }
      ]
    },
    {
      "cell_type": "markdown",
      "metadata": {
        "id": "6BB0GsED-JIr"
      },
      "source": [
        "## Filter"
      ]
    },
    {
      "cell_type": "code",
      "metadata": {
        "colab": {
          "base_uri": "https://localhost:8080/"
        },
        "id": "8Sw486xCk69o",
        "outputId": "91b140a1-763a-45be-b042-dae07dd8284b"
      },
      "source": [
        "rows_acid = df.filter(df[\"fixed acidity\"] > 10).collect()\r\n",
        "rows_acid[0].asDict()"
      ],
      "execution_count": 49,
      "outputs": [
        {
          "output_type": "execute_result",
          "data": {
            "text/plain": [
              "{'alcohol': 9.9,\n",
              " 'chlorides': 0.049,\n",
              " 'citric acid': 0.88,\n",
              " 'density': 0.9968,\n",
              " 'fixed acidity': 10.2,\n",
              " 'free sulfur dioxide': 20.0,\n",
              " 'pH': 2.99,\n",
              " 'quality': 4,\n",
              " 'residual sugar': 6.2,\n",
              " 'sulphates': 0.51,\n",
              " 'total sulfur dioxide': 124.0,\n",
              " 'volatile acidity': 0.44}"
            ]
          },
          "metadata": {
            "tags": []
          },
          "execution_count": 49
        }
      ]
    },
    {
      "cell_type": "markdown",
      "metadata": {
        "id": "_noQr3Gl-O0e"
      },
      "source": [
        "## Aggregates and order"
      ]
    },
    {
      "cell_type": "code",
      "metadata": {
        "colab": {
          "base_uri": "https://localhost:8080/"
        },
        "id": "UempEJcFmMa4",
        "outputId": "6fd252d9-0f6e-4a6f-cf7b-3dfbef975915"
      },
      "source": [
        "from pyspark.sql import functions as f\r\n",
        "df.groupby('quality').agg(\r\n",
        "    f.avg('alcohol').alias('mean_alcohol'),\r\n",
        "    f.max('alcohol').alias('max_alcohol'),\r\n",
        "    f.min('alcohol').alias('min_alcohol'),\r\n",
        "    f.count('alcohol').alias('population')\r\n",
        ").sort('quality').show()"
      ],
      "execution_count": 50,
      "outputs": [
        {
          "output_type": "stream",
          "text": [
            "+-------+------------------+-----------+-----------+----------+\n",
            "|quality|      mean_alcohol|max_alcohol|min_alcohol|population|\n",
            "+-------+------------------+-----------+-----------+----------+\n",
            "|      3|            10.345|       12.6|        8.0|        20|\n",
            "|      4| 10.15245398773007|       13.5|        8.4|       163|\n",
            "|      5| 9.808840082361009|       13.6|        8.0|      1457|\n",
            "|      6|10.575371549893866|       14.0|        8.5|      2198|\n",
            "|      7|11.367935606060604|       14.2|        8.6|       880|\n",
            "|      8|11.636000000000003|       14.0|        8.5|       175|\n",
            "|      9|             12.18|       12.9|       10.4|         5|\n",
            "+-------+------------------+-----------+-----------+----------+\n",
            "\n"
          ],
          "name": "stdout"
        }
      ]
    },
    {
      "cell_type": "code",
      "metadata": {
        "colab": {
          "base_uri": "https://localhost:8080/"
        },
        "id": "2XBASjxKoj9w",
        "outputId": "6b1a3513-12b9-462b-db0f-74dc17083b35"
      },
      "source": [
        "df.createOrReplaceTempView('wine')\r\n",
        "query = spark.sql(\"SELECT * FROM wine ORDER BY alcohol LIMIT 5\")\r\n",
        "query.show()"
      ],
      "execution_count": 51,
      "outputs": [
        {
          "output_type": "stream",
          "text": [
            "+-------------+----------------+-----------+--------------+---------+-------------------+--------------------+-------+----+---------+-------+-------+\n",
            "|fixed acidity|volatile acidity|citric acid|residual sugar|chlorides|free sulfur dioxide|total sulfur dioxide|density|  pH|sulphates|alcohol|quality|\n",
            "+-------------+----------------+-----------+--------------+---------+-------------------+--------------------+-------+----+---------+-------+-------+\n",
            "|          4.2|           0.215|       0.23|           5.1|    0.041|               64.0|               157.0|0.99688|3.42|     0.44|    8.0|      3|\n",
            "|          4.5|            0.19|       0.21|          0.95|    0.033|               89.0|               159.0|0.99332|3.34|     0.42|    8.0|      5|\n",
            "|          6.2|            0.31|       0.23|           3.3|    0.052|               34.0|               113.0|0.99429|3.16|     0.48|    8.4|      5|\n",
            "|          6.2|            0.31|       0.23|           3.3|    0.052|               34.0|               113.0|0.99429|3.16|     0.48|    8.4|      5|\n",
            "|          6.4|            0.37|       0.12|           5.9|    0.056|                6.0|                91.0|0.99536|3.06|     0.46|    8.4|      4|\n",
            "+-------------+----------------+-----------+--------------+---------+-------------------+--------------------+-------+----+---------+-------+-------+\n",
            "\n"
          ],
          "name": "stdout"
        }
      ]
    },
    {
      "cell_type": "code",
      "metadata": {
        "colab": {
          "base_uri": "https://localhost:8080/"
        },
        "id": "KLWtb-TZ8IEW",
        "outputId": "92388648-7443-43a7-e7a4-af969d7c3966"
      },
      "source": [
        "df.select(f.countDistinct('quality').alias('unique_qualities')).show()"
      ],
      "execution_count": 52,
      "outputs": [
        {
          "output_type": "stream",
          "text": [
            "+----------------+\n",
            "|unique_qualities|\n",
            "+----------------+\n",
            "|               7|\n",
            "+----------------+\n",
            "\n"
          ],
          "name": "stdout"
        }
      ]
    },
    {
      "cell_type": "code",
      "metadata": {
        "colab": {
          "base_uri": "https://localhost:8080/"
        },
        "id": "LEv7jUMHa5zn",
        "outputId": "5694565d-7f56-46a9-d5a0-20d058f133e3"
      },
      "source": [
        "df.select([f.max(df.pH),f.min(df.pH)]).show()"
      ],
      "execution_count": 144,
      "outputs": [
        {
          "output_type": "stream",
          "text": [
            "+-------+-------+\n",
            "|max(pH)|min(pH)|\n",
            "+-------+-------+\n",
            "|   3.82|   2.72|\n",
            "+-------+-------+\n",
            "\n"
          ],
          "name": "stdout"
        }
      ]
    },
    {
      "cell_type": "code",
      "metadata": {
        "colab": {
          "base_uri": "https://localhost:8080/"
        },
        "id": "dUXwX3mP8usC",
        "outputId": "97fc96f5-a75f-451e-87bf-882c8881e41d"
      },
      "source": [
        "ph_stddev = df.select(f.stddev('pH').alias('pH_stddev'))\r\n",
        "ph_stddev.show()"
      ],
      "execution_count": 53,
      "outputs": [
        {
          "output_type": "stream",
          "text": [
            "+-------------------+\n",
            "|          pH_stddev|\n",
            "+-------------------+\n",
            "|0.15100059961506673|\n",
            "+-------------------+\n",
            "\n"
          ],
          "name": "stdout"
        }
      ]
    },
    {
      "cell_type": "code",
      "metadata": {
        "colab": {
          "base_uri": "https://localhost:8080/"
        },
        "id": "7hhJtbXZ9BuN",
        "outputId": "38ec7b39-5c7a-4e31-ebee-98722d245411"
      },
      "source": [
        "ph_stddev.select(f.format_number('pH_stddev',3).alias('pH_stddev_rounded')).show()"
      ],
      "execution_count": 54,
      "outputs": [
        {
          "output_type": "stream",
          "text": [
            "+-----------------+\n",
            "|pH_stddev_rounded|\n",
            "+-----------------+\n",
            "|            0.151|\n",
            "+-----------------+\n",
            "\n"
          ],
          "name": "stdout"
        }
      ]
    },
    {
      "cell_type": "code",
      "metadata": {
        "colab": {
          "base_uri": "https://localhost:8080/"
        },
        "id": "50VDejUt9Y91",
        "outputId": "7e70d36b-461f-4cd5-8101-861fd425738e"
      },
      "source": [
        "df.orderBy(df.pH.desc()).show(5)"
      ],
      "execution_count": 55,
      "outputs": [
        {
          "output_type": "stream",
          "text": [
            "+-------------+----------------+-----------+--------------+---------+-------------------+--------------------+-------+----+---------+-------+-------+\n",
            "|fixed acidity|volatile acidity|citric acid|residual sugar|chlorides|free sulfur dioxide|total sulfur dioxide|density|  pH|sulphates|alcohol|quality|\n",
            "+-------------+----------------+-----------+--------------+---------+-------------------+--------------------+-------+----+---------+-------+-------+\n",
            "|          5.3|            0.26|       0.23|          5.15|    0.034|               48.0|               160.0| 0.9952|3.82|     0.51|   10.5|      7|\n",
            "|          6.4|            0.22|       0.34|           1.8|    0.057|               29.0|               104.0| 0.9959|3.81|     0.57|   10.3|      6|\n",
            "|          6.3|             0.2|       0.24|           1.7|    0.052|               36.0|               135.0|0.99374| 3.8|     0.66|   10.8|      6|\n",
            "|          5.7|            0.27|       0.32|           1.2|    0.046|               20.0|               155.0| 0.9934| 3.8|     0.41|   10.2|      6|\n",
            "|          4.6|           0.445|        0.0|           1.4|    0.053|               11.0|               178.0|0.99426|3.79|     0.55|   10.2|      5|\n",
            "+-------------+----------------+-----------+--------------+---------+-------------------+--------------------+-------+----+---------+-------+-------+\n",
            "only showing top 5 rows\n",
            "\n"
          ],
          "name": "stdout"
        }
      ]
    },
    {
      "cell_type": "markdown",
      "metadata": {
        "id": "yHccJITYcahL"
      },
      "source": [
        "## Correlation"
      ]
    },
    {
      "cell_type": "code",
      "metadata": {
        "colab": {
          "base_uri": "https://localhost:8080/"
        },
        "id": "K0soPs_pcZ83",
        "outputId": "bb4d42f4-3327-49c1-e1c8-89688f14d8a0"
      },
      "source": [
        "df.select(f.corr('pH','alcohol')).show()"
      ],
      "execution_count": 145,
      "outputs": [
        {
          "output_type": "stream",
          "text": [
            "+-------------------+\n",
            "|  corr(pH, alcohol)|\n",
            "+-------------------+\n",
            "|0.12143209874913044|\n",
            "+-------------------+\n",
            "\n"
          ],
          "name": "stdout"
        }
      ]
    },
    {
      "cell_type": "markdown",
      "metadata": {
        "id": "dmBKqsH8-gSF"
      },
      "source": [
        "## Missing data"
      ]
    },
    {
      "cell_type": "code",
      "metadata": {
        "colab": {
          "base_uri": "https://localhost:8080/"
        },
        "id": "sfRwchblAG1j",
        "outputId": "27dc3220-54f9-46ec-c7da-83b86b725b9a"
      },
      "source": [
        "from pyspark.sql.functions import isnan, when, count, col\r\n",
        "df.select([count(when(isnan(c) | col(c).isNull(), c)).alias(c) for c in df.columns]).show()"
      ],
      "execution_count": 57,
      "outputs": [
        {
          "output_type": "stream",
          "text": [
            "+-------------+----------------+-----------+--------------+---------+-------------------+--------------------+-------+---+---------+-------+-------+\n",
            "|fixed acidity|volatile acidity|citric acid|residual sugar|chlorides|free sulfur dioxide|total sulfur dioxide|density| pH|sulphates|alcohol|quality|\n",
            "+-------------+----------------+-----------+--------------+---------+-------------------+--------------------+-------+---+---------+-------+-------+\n",
            "|            0|               1|          1|             0|        0|                  1|                   1|      2|  0|        0|      0|      0|\n",
            "+-------------+----------------+-----------+--------------+---------+-------------------+--------------------+-------+---+---------+-------+-------+\n",
            "\n"
          ],
          "name": "stdout"
        }
      ]
    },
    {
      "cell_type": "code",
      "metadata": {
        "colab": {
          "base_uri": "https://localhost:8080/"
        },
        "id": "3fjeefk8BCLA",
        "outputId": "cba09d63-94a1-4f78-c5a8-2275a03c0b8d"
      },
      "source": [
        "df_with_miss = df.filter((df.density.isNull()) | (df['citric acid'].isNull()) | (df.pH == 3.82))\r\n",
        "df_with_miss.show()"
      ],
      "execution_count": 75,
      "outputs": [
        {
          "output_type": "stream",
          "text": [
            "+-------------+----------------+-----------+--------------+---------+-------------------+--------------------+-------+----+---------+-------+-------+\n",
            "|fixed acidity|volatile acidity|citric acid|residual sugar|chlorides|free sulfur dioxide|total sulfur dioxide|density|  pH|sulphates|alcohol|quality|\n",
            "+-------------+----------------+-----------+--------------+---------+-------------------+--------------------+-------+----+---------+-------+-------+\n",
            "|          6.2|            0.16|       0.33|           1.1|    0.057|               21.0|                82.0|   null|3.32|     0.46|   10.9|      7|\n",
            "|          7.1|            0.44|       null|          11.8|    0.044|               52.0|               152.0| 0.9975|3.12|     0.46|    8.7|      6|\n",
            "|          5.3|            0.26|       0.23|          5.15|    0.034|               48.0|               160.0| 0.9952|3.82|     0.51|   10.5|      7|\n",
            "|          7.2|            null|        0.4|           6.3|    0.047|               null|               172.0|   null|3.18|     0.53|    9.5|      6|\n",
            "+-------------+----------------+-----------+--------------+---------+-------------------+--------------------+-------+----+---------+-------+-------+\n",
            "\n"
          ],
          "name": "stdout"
        }
      ]
    },
    {
      "cell_type": "code",
      "metadata": {
        "colab": {
          "base_uri": "https://localhost:8080/"
        },
        "id": "p_2ff-cuIJrD",
        "outputId": "d17b3175-3db1-45e8-87d9-a2cfcae6c0a2"
      },
      "source": [
        "df_with_miss.na.drop().show()"
      ],
      "execution_count": 76,
      "outputs": [
        {
          "output_type": "stream",
          "text": [
            "+-------------+----------------+-----------+--------------+---------+-------------------+--------------------+-------+----+---------+-------+-------+\n",
            "|fixed acidity|volatile acidity|citric acid|residual sugar|chlorides|free sulfur dioxide|total sulfur dioxide|density|  pH|sulphates|alcohol|quality|\n",
            "+-------------+----------------+-----------+--------------+---------+-------------------+--------------------+-------+----+---------+-------+-------+\n",
            "|          5.3|            0.26|       0.23|          5.15|    0.034|               48.0|               160.0| 0.9952|3.82|     0.51|   10.5|      7|\n",
            "+-------------+----------------+-----------+--------------+---------+-------------------+--------------------+-------+----+---------+-------+-------+\n",
            "\n"
          ],
          "name": "stdout"
        }
      ]
    },
    {
      "cell_type": "code",
      "metadata": {
        "colab": {
          "base_uri": "https://localhost:8080/"
        },
        "id": "YLO4sMGAIiMw",
        "outputId": "01c18b2a-64ea-41bb-8d85-07adceec77d9"
      },
      "source": [
        "df_with_miss.na.drop(subset=['density']).show()"
      ],
      "execution_count": 80,
      "outputs": [
        {
          "output_type": "stream",
          "text": [
            "+-------------+----------------+-----------+--------------+---------+-------------------+--------------------+-------+----+---------+-------+-------+\n",
            "|fixed acidity|volatile acidity|citric acid|residual sugar|chlorides|free sulfur dioxide|total sulfur dioxide|density|  pH|sulphates|alcohol|quality|\n",
            "+-------------+----------------+-----------+--------------+---------+-------------------+--------------------+-------+----+---------+-------+-------+\n",
            "|          7.1|            0.44|       null|          11.8|    0.044|               52.0|               152.0| 0.9975|3.12|     0.46|    8.7|      6|\n",
            "|          5.3|            0.26|       0.23|          5.15|    0.034|               48.0|               160.0| 0.9952|3.82|     0.51|   10.5|      7|\n",
            "+-------------+----------------+-----------+--------------+---------+-------------------+--------------------+-------+----+---------+-------+-------+\n",
            "\n"
          ],
          "name": "stdout"
        }
      ]
    },
    {
      "cell_type": "code",
      "metadata": {
        "colab": {
          "base_uri": "https://localhost:8080/"
        },
        "id": "pZpI2jIeMKHS",
        "outputId": "474f62d1-ad38-4581-bb8d-69065de4bdeb"
      },
      "source": [
        "df_with_miss.na.fill(0).show()"
      ],
      "execution_count": 81,
      "outputs": [
        {
          "output_type": "stream",
          "text": [
            "+-------------+----------------+-----------+--------------+---------+-------------------+--------------------+-------+----+---------+-------+-------+\n",
            "|fixed acidity|volatile acidity|citric acid|residual sugar|chlorides|free sulfur dioxide|total sulfur dioxide|density|  pH|sulphates|alcohol|quality|\n",
            "+-------------+----------------+-----------+--------------+---------+-------------------+--------------------+-------+----+---------+-------+-------+\n",
            "|          6.2|            0.16|       0.33|           1.1|    0.057|               21.0|                82.0|    0.0|3.32|     0.46|   10.9|      7|\n",
            "|          7.1|            0.44|        0.0|          11.8|    0.044|               52.0|               152.0| 0.9975|3.12|     0.46|    8.7|      6|\n",
            "|          5.3|            0.26|       0.23|          5.15|    0.034|               48.0|               160.0| 0.9952|3.82|     0.51|   10.5|      7|\n",
            "|          7.2|             0.0|        0.4|           6.3|    0.047|                0.0|               172.0|    0.0|3.18|     0.53|    9.5|      6|\n",
            "+-------------+----------------+-----------+--------------+---------+-------------------+--------------------+-------+----+---------+-------+-------+\n",
            "\n"
          ],
          "name": "stdout"
        }
      ]
    },
    {
      "cell_type": "code",
      "metadata": {
        "colab": {
          "base_uri": "https://localhost:8080/"
        },
        "id": "A8tUl3c2Muc1",
        "outputId": "2c540ed3-76b8-40d2-b81e-4a032391cde5"
      },
      "source": [
        "avg_density = df.select(f.mean(df.density)).collect()\r\n",
        "avg_density = avg_density[0][0]\r\n",
        "df_with_miss.na.fill(avg_density,subset=['density']).show()"
      ],
      "execution_count": 86,
      "outputs": [
        {
          "output_type": "stream",
          "text": [
            "+-------------+----------------+-----------+--------------+---------+-------------------+--------------------+------------------+----+---------+-------+-------+\n",
            "|fixed acidity|volatile acidity|citric acid|residual sugar|chlorides|free sulfur dioxide|total sulfur dioxide|           density|  pH|sulphates|alcohol|quality|\n",
            "+-------------+----------------+-----------+--------------+---------+-------------------+--------------------+------------------+----+---------+-------+-------+\n",
            "|          6.2|            0.16|       0.33|           1.1|    0.057|               21.0|                82.0|0.9940276470588172|3.32|     0.46|   10.9|      7|\n",
            "|          7.1|            0.44|       null|          11.8|    0.044|               52.0|               152.0|            0.9975|3.12|     0.46|    8.7|      6|\n",
            "|          5.3|            0.26|       0.23|          5.15|    0.034|               48.0|               160.0|            0.9952|3.82|     0.51|   10.5|      7|\n",
            "|          7.2|            null|        0.4|           6.3|    0.047|               null|               172.0|0.9940276470588172|3.18|     0.53|    9.5|      6|\n",
            "+-------------+----------------+-----------+--------------+---------+-------------------+--------------------+------------------+----+---------+-------+-------+\n",
            "\n"
          ],
          "name": "stdout"
        }
      ]
    },
    {
      "cell_type": "markdown",
      "metadata": {
        "id": "iAK18z4_Orw-"
      },
      "source": [
        "## Datetime"
      ]
    },
    {
      "cell_type": "code",
      "metadata": {
        "colab": {
          "base_uri": "https://localhost:8080/"
        },
        "id": "ntaSgzS8Nnnu",
        "outputId": "e1d5eadd-8768-48d1-a939-c4c5a026c265"
      },
      "source": [
        "df_apple = spark.read.csv('appl_stock.csv',header=True,inferSchema=True)\r\n",
        "df_apple.printSchema()"
      ],
      "execution_count": 123,
      "outputs": [
        {
          "output_type": "stream",
          "text": [
            "root\n",
            " |-- Date: string (nullable = true)\n",
            " |-- Open: double (nullable = true)\n",
            " |-- High: double (nullable = true)\n",
            " |-- Low: double (nullable = true)\n",
            " |-- Close: double (nullable = true)\n",
            " |-- Volume: integer (nullable = true)\n",
            " |-- Adj Close: double (nullable = true)\n",
            "\n"
          ],
          "name": "stdout"
        }
      ]
    },
    {
      "cell_type": "code",
      "metadata": {
        "id": "gJxfdhbdQOmo"
      },
      "source": [
        "from datetime import datetime\r\n",
        "from pyspark.sql.functions import udf\r\n",
        "from pyspark.sql.types import DateType\r\n",
        "\r\n",
        "convert_date = udf(lambda x: datetime.strptime(x, '%Y-%m-%d'), DateType())\r\n",
        "df_apple = df_apple.withColumn('Date', convert_date('Date'))"
      ],
      "execution_count": 124,
      "outputs": []
    },
    {
      "cell_type": "code",
      "metadata": {
        "colab": {
          "base_uri": "https://localhost:8080/"
        },
        "id": "MgzNUM56OvuV",
        "outputId": "1e9f3d5d-4b94-4e69-ad9a-fd57c7ac95ac"
      },
      "source": [
        "df_apple.head(1)"
      ],
      "execution_count": 125,
      "outputs": [
        {
          "output_type": "execute_result",
          "data": {
            "text/plain": [
              "[Row(Date=datetime.date(2010, 1, 4), Open=213.429998, High=214.499996, Low=212.38000099999996, Close=214.009998, Volume=123432400, Adj Close=27.727039)]"
            ]
          },
          "metadata": {
            "tags": []
          },
          "execution_count": 125
        }
      ]
    },
    {
      "cell_type": "code",
      "metadata": {
        "colab": {
          "base_uri": "https://localhost:8080/"
        },
        "id": "i9IIla5oP6og",
        "outputId": "57c8e2ea-43dd-4b3c-87a7-d8094b043d09"
      },
      "source": [
        "df_apple = df_apple.withColumn('week',f.weekofyear('Date'))\r\n",
        "df_apple.show(5)"
      ],
      "execution_count": 126,
      "outputs": [
        {
          "output_type": "stream",
          "text": [
            "+----------+----------+----------+------------------+------------------+---------+------------------+----+\n",
            "|      Date|      Open|      High|               Low|             Close|   Volume|         Adj Close|week|\n",
            "+----------+----------+----------+------------------+------------------+---------+------------------+----+\n",
            "|2010-01-04|213.429998|214.499996|212.38000099999996|        214.009998|123432400|         27.727039|   1|\n",
            "|2010-01-05|214.599998|215.589994|        213.249994|        214.379993|150476200|27.774976000000002|   1|\n",
            "|2010-01-06|214.379993|    215.23|        210.750004|        210.969995|138040000|27.333178000000004|   1|\n",
            "|2010-01-07|    211.75|212.000006|        209.050005|            210.58|119282800|          27.28265|   1|\n",
            "|2010-01-08|210.299994|212.000006|209.06000500000002|211.98000499999998|111902700|         27.464034|   1|\n",
            "+----------+----------+----------+------------------+------------------+---------+------------------+----+\n",
            "only showing top 5 rows\n",
            "\n"
          ],
          "name": "stdout"
        }
      ]
    },
    {
      "cell_type": "code",
      "metadata": {
        "colab": {
          "base_uri": "https://localhost:8080/"
        },
        "id": "VX003Ew0TeXF",
        "outputId": "949b72a1-7778-46b8-d875-db618fd1aa3e"
      },
      "source": [
        "df_apple.groupby('week').max().select(['week','max(Open)','max(Close)']).orderBy('week').show(5)"
      ],
      "execution_count": 148,
      "outputs": [
        {
          "output_type": "stream",
          "text": [
            "+----+----------+-----------------+\n",
            "|week| max(Open)|       max(Close)|\n",
            "+----+----------+-----------------+\n",
            "|   1|557.460022|       561.019997|\n",
            "|   2|546.800018|       543.929993|\n",
            "|   3|554.900017|557.3599929999999|\n",
            "|   4|554.000023|       556.179993|\n",
            "|   5|    550.07|       550.500023|\n",
            "+----+----------+-----------------+\n",
            "only showing top 5 rows\n",
            "\n"
          ],
          "name": "stdout"
        }
      ]
    }
  ]
}